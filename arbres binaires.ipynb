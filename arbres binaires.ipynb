{
 "cells": [
  {
   "cell_type": "code",
   "execution_count": 1,
   "id": "ece3cae8-f27b-4a13-882c-714cbc931039",
   "metadata": {},
   "outputs": [],
   "source": [
    "B = [8, [4, [3, [], []], [5, [], []]], [7, [], []]]\n"
   ]
  },
  {
   "cell_type": "code",
   "execution_count": 2,
   "id": "8ebf9b99-b48a-47b1-86af-882a40a29ef9",
   "metadata": {},
   "outputs": [],
   "source": [
    "def Arbre_vide():\n",
    "    return []"
   ]
  },
  {
   "cell_type": "code",
   "execution_count": 3,
   "id": "2443ece2-fa2e-4849-87dd-1b964c2adbf2",
   "metadata": {},
   "outputs": [],
   "source": [
    "def Est_vide(A):\n",
    "    if A == []:\n",
    "        return True\n",
    "    return False\n"
   ]
  },
  {
   "cell_type": "code",
   "execution_count": 4,
   "id": "e3d20957-9a93-4e08-85a2-51175d8387c7",
   "metadata": {},
   "outputs": [],
   "source": [
    "def racine(A):\n",
    "    if not Est_vide(A):\n",
    "        return A[0]\n",
    " "
   ]
  },
  {
   "cell_type": "code",
   "execution_count": 5,
   "id": "dcbf867c-d5df-49af-a5d2-4758f7f12c00",
   "metadata": {},
   "outputs": [],
   "source": [
    "def fils_gauche(A):\n",
    "    if not Est_vide(A):\n",
    "        return A[1]"
   ]
  },
  {
   "cell_type": "code",
   "execution_count": 6,
   "id": "3d820dbe-dfd9-4300-9cf9-38ddc8c441ce",
   "metadata": {},
   "outputs": [],
   "source": [
    "def fils_droit(A):\n",
    "    if not Est_vide(A):\n",
    "        return A[2]\n"
   ]
  },
  {
   "cell_type": "code",
   "execution_count": 7,
   "id": "fe63f65a-3076-42da-9dce-36f8f12564f8",
   "metadata": {},
   "outputs": [],
   "source": [
    "def Est_feuille(A):\n",
    "    if Est_vide(A):\n",
    "        return False\n",
    "    return Est_vide(fils_gauche) and Est_vide(fils_droit)\n"
   ]
  },
  {
   "cell_type": "code",
   "execution_count": 8,
   "id": "c52c5d96-1b00-468d-a98e-2e35ccd6e973",
   "metadata": {},
   "outputs": [],
   "source": [
    "def nombre_noeuds(A):\n",
    "    if Est_vide(A):\n",
    "        return 0\n",
    "    else:\n",
    "        return 1 + nombre_noeuds(fils_droit(A)) + nombre_noeuds(fils_gauche(A))\n"
   ]
  },
  {
   "cell_type": "code",
   "execution_count": 9,
   "id": "d5369f1b-870c-4ea9-af55-bf04edf8a7e1",
   "metadata": {},
   "outputs": [],
   "source": [
    "def Hauteur(A):\n",
    "    if Est_vide(A):\n",
    "        return 0\n",
    "    else:\n",
    "        hauteur_gauche = Hauteur(fils_gauche(A))\n",
    "        hauteur_droite = Hauteur(fils_droit(A))\n",
    "        return 1 + max(hauteur_gauche, hauteur_droite)"
   ]
  },
  {
   "cell_type": "code",
   "execution_count": 10,
   "id": "11355ea4-9597-497f-8676-748546c623d7",
   "metadata": {},
   "outputs": [
    {
     "name": "stdout",
     "output_type": "stream",
     "text": [
      "8\n",
      "4\n",
      "3\n",
      "5\n",
      "7\n"
     ]
    }
   ],
   "source": [
    "def parcours_prefixe(A):\n",
    "    if not Est_vide(A):\n",
    "        print(racine(A))\n",
    "        parcours_prefixe(fils_gauche(A))\n",
    "        parcours_prefixe(fils_droit(A))\n",
    "\n",
    "parcours_prefixe(B)\n",
    "        "
   ]
  },
  {
   "cell_type": "code",
   "execution_count": 11,
   "id": "77333904-c964-42dc-be2c-0b90207504d6",
   "metadata": {},
   "outputs": [],
   "source": [
    "def parcours_infixe(A):\n",
    "    if not Est_vide(A):\n",
    "        parcours_infixe(fils_gauche(A))\n",
    "        print(racine(A))\n",
    "        parcours_infixe(fils_droit(A))\n",
    "        \n",
    "        "
   ]
  },
  {
   "cell_type": "code",
   "execution_count": 12,
   "id": "a54e7120-d932-4cbd-94f0-f78d4d1c9e9d",
   "metadata": {},
   "outputs": [],
   "source": [
    "def parcours_postfixe(A):\n",
    "    if not Est_vide(A):\n",
    "        parcours_postfixe(fils_gauche(A))\n",
    "        parcours_postfixe(fils_droit(A))\n",
    "        print(racine(A))\n",
    "        "
   ]
  },
  {
   "cell_type": "code",
   "execution_count": 19,
   "id": "91931454-306f-48ab-ab63-0320128d327e",
   "metadata": {},
   "outputs": [
    {
     "data": {
      "text/plain": [
       "3"
      ]
     },
     "execution_count": 19,
     "metadata": {},
     "output_type": "execute_result"
    }
   ],
   "source": [
    "def nombre_feuille(A):\n",
    "    if Est_vide(A):\n",
    "        return 0\n",
    "    elif Est_vide(fils_gauche(A)) and Est_vide(fils_droit(A)):\n",
    "        return 1\n",
    "    else:\n",
    "        return nombre_feuille(fils_gauche(A))+nombre_feuille(fils_droit(A))\n",
    "\n",
    "nombre_feuille(B)"
   ]
  },
  {
   "cell_type": "code",
   "execution_count": 14,
   "id": "e42b2bb1-48fe-4db7-ae55-ef613c2fb5fd",
   "metadata": {},
   "outputs": [
    {
     "name": "stdout",
     "output_type": "stream",
     "text": [
      "8\n",
      "4\n",
      "7\n",
      "3\n",
      "5\n"
     ]
    }
   ],
   "source": [
    "def parcours_largeur(A):\n",
    "    F = [A] \n",
    "    while F!= []:\n",
    "        arb = F.pop(0)\n",
    "        print(racine(arb))\n",
    "        if not Est_vide(fils_gauche(arb)):\n",
    "            F.append(fils_gauche(arb))\n",
    "        if not Est_vide(fils_droit(arb)):\n",
    "            F.append(fils_droit(arb))\n",
    "\n",
    "parcours_largeur(B)"
   ]
  },
  {
   "cell_type": "code",
   "execution_count": 15,
   "id": "6c21d749-1f25-4d2a-8809-67785a561203",
   "metadata": {},
   "outputs": [
    {
     "name": "stdout",
     "output_type": "stream",
     "text": [
      "3\n"
     ]
    }
   ],
   "source": [
    "def etiquette_min(A):\n",
    "    if not Est_vide(A):\n",
    "        if Est_vide(fils_gauche(A)):\n",
    "            return racine(A)\n",
    "        else:\n",
    "            return etiquette_min(fils_gauche(A))\n",
    "\n",
    "print(etiquette_min(B)) #B = [8, [4, [3, [], []], [5, [], []]], [7, [], []]]"
   ]
  },
  {
   "cell_type": "code",
   "execution_count": 16,
   "id": "38f92f6f-1ac2-47db-b8d1-dc120d15b677",
   "metadata": {},
   "outputs": [
    {
     "name": "stdout",
     "output_type": "stream",
     "text": [
      "7\n"
     ]
    }
   ],
   "source": [
    "def etiquette_max(A):\n",
    "    if not Est_vide(A):\n",
    "        if Est_vide(fils_droit(A)):\n",
    "            return racine(A)\n",
    "        else:\n",
    "            return etiquette_max(fils_droit(A))\n",
    "\n",
    "print(etiquette_max(B)) #B = [8, [4, [3, [], []], [5, [], []]], [7, [], []]]"
   ]
  },
  {
   "cell_type": "code",
   "execution_count": 17,
   "id": "52d51472-79ca-4ecf-b382-a3c07c0b53bb",
   "metadata": {},
   "outputs": [],
   "source": [
    "def recherche(A, e):\n",
    "    if Est_vide(A):\n",
    "        return False\n",
    "    if e == racine(A):\n",
    "        return True\n",
    "    if e < racine(A):\n",
    "        return recherche(fils_gauche(A), e)\n",
    "    else:\n",
    "        return recherche(fils_droit(A), e)"
   ]
  },
  {
   "cell_type": "markdown",
   "id": "d2bd9bbe-f0fb-4760-8fb0-4fd0577ae092",
   "metadata": {},
   "source": [
    "### Tas max et min"
   ]
  },
  {
   "cell_type": "code",
   "execution_count": 18,
   "id": "d73679b5-1d6b-464f-9b82-3e7e33ebafaa",
   "metadata": {},
   "outputs": [],
   "source": [
    "def inserer_tas(A, x):\n",
    "    A.append(x)\n",
    "    indice = len(A)-1\n",
    "    pere = (indice - 1) // 2\n",
    "    while pere >= 0 and A[pere] <= x:\n",
    "        A[pere], A[indice] = A[indice], A[pere]\n",
    "        indice = pere\n",
    "        pere = (indice - 1) // 2"
   ]
  },
  {
   "cell_type": "code",
   "execution_count": null,
   "id": "409f6137-de56-425c-8133-67c94c688d2b",
   "metadata": {},
   "outputs": [],
   "source": []
  },
  {
   "cell_type": "code",
   "execution_count": 24,
   "id": "d2ef77cd-378b-440e-92b6-643c078c0bc2",
   "metadata": {},
   "outputs": [
    {
     "data": {
      "text/plain": [
       "[6, 1, 2, 3, 4, 5, 6, 7]"
      ]
     },
     "execution_count": 24,
     "metadata": {},
     "output_type": "execute_result"
    }
   ],
   "source": [
    "a = [0, 1, 2, 3, 4, 5, 6, 7]\n",
    "a[0] = 6\n",
    "\n",
    "a"
   ]
  },
  {
   "cell_type": "code",
   "execution_count": null,
   "id": "23a33c65-d52f-436b-833a-9451f2555407",
   "metadata": {},
   "outputs": [],
   "source": []
  },
  {
   "cell_type": "code",
   "execution_count": null,
   "id": "d2732077-092f-42b3-a976-8a2948f3c62b",
   "metadata": {},
   "outputs": [],
   "source": []
  },
  {
   "cell_type": "code",
   "execution_count": null,
   "id": "8bf973b5-d8b8-4e89-ad84-27e24cd788d7",
   "metadata": {},
   "outputs": [],
   "source": []
  },
  {
   "cell_type": "code",
   "execution_count": null,
   "id": "48e95846-6d76-42bf-a31d-d54bfe46fe17",
   "metadata": {},
   "outputs": [],
   "source": []
  }
 ],
 "metadata": {
  "kernelspec": {
   "display_name": "Python 3 (ipykernel)",
   "language": "python",
   "name": "python3"
  },
  "language_info": {
   "codemirror_mode": {
    "name": "ipython",
    "version": 3
   },
   "file_extension": ".py",
   "mimetype": "text/x-python",
   "name": "python",
   "nbconvert_exporter": "python",
   "pygments_lexer": "ipython3",
   "version": "3.12.4"
  }
 },
 "nbformat": 4,
 "nbformat_minor": 5
}
